{
 "cells": [
  {
   "cell_type": "code",
   "execution_count": 1,
   "id": "34d629b6-3851-483e-9960-600dda330a77",
   "metadata": {},
   "outputs": [],
   "source": [
    "import numpy as np\n",
    "import sklearn\n",
    "from scipy.linalg import khatri_rao\n",
    "from submit import *"
   ]
  },
  {
   "cell_type": "code",
   "execution_count": 2,
   "id": "f86c2b06-af34-43fc-85af-c32060fa470c",
   "metadata": {},
   "outputs": [],
   "source": [
    "from sklearn.svm import LinearSVC"
   ]
  },
  {
   "cell_type": "code",
   "execution_count": 3,
   "id": "04e12730-a2d0-48b2-bd70-ab46cf32e7a0",
   "metadata": {},
   "outputs": [],
   "source": [
    "pub_mod = np.loadtxt('public_mod.txt')"
   ]
  },
  {
   "cell_type": "code",
   "execution_count": 4,
   "id": "76a2120f-a13f-4180-81d3-163f8fe6e416",
   "metadata": {},
   "outputs": [],
   "source": [
    "pub_tr = np.loadtxt('public_trn.txt')"
   ]
  },
  {
   "cell_type": "code",
   "execution_count": 5,
   "id": "d951901c-65fd-4ac5-9fd1-4f9e214ef7c6",
   "metadata": {},
   "outputs": [],
   "source": [
    "pub_ts = np.loadtxt('public_tst.txt')"
   ]
  },
  {
   "cell_type": "code",
   "execution_count": 6,
   "id": "d144a704-b778-475b-a1c1-876e46323241",
   "metadata": {},
   "outputs": [
    {
     "data": {
      "text/plain": [
       "(10, 65)"
      ]
     },
     "execution_count": 6,
     "metadata": {},
     "output_type": "execute_result"
    }
   ],
   "source": [
    "pub_mod.shape"
   ]
  },
  {
   "cell_type": "code",
   "execution_count": 7,
   "id": "c2807893-75bf-4276-be67-432c1f22aaba",
   "metadata": {},
   "outputs": [
    {
     "data": {
      "text/plain": [
       "(6400, 9)"
      ]
     },
     "execution_count": 7,
     "metadata": {},
     "output_type": "execute_result"
    }
   ],
   "source": [
    "pub_tr.shape"
   ]
  },
  {
   "cell_type": "code",
   "execution_count": 8,
   "id": "88d61587-9fe3-44b8-95db-5b2f308c9baf",
   "metadata": {},
   "outputs": [
    {
     "data": {
      "text/plain": [
       "(1600, 9)"
      ]
     },
     "execution_count": 8,
     "metadata": {},
     "output_type": "execute_result"
    }
   ],
   "source": [
    "pub_ts.shape"
   ]
  },
  {
   "cell_type": "code",
   "execution_count": 26,
   "id": "b1ea46bc-cbe2-408e-9ec8-22ca26f652c9",
   "metadata": {},
   "outputs": [],
   "source": [
    "A = np.array([1, 2 , 3, 4])"
   ]
  },
  {
   "cell_type": "code",
   "execution_count": 19,
   "id": "1b2bc1b1-96c4-4428-9714-76d87ed026e8",
   "metadata": {},
   "outputs": [
    {
     "data": {
      "text/plain": [
       "array([[ 1,  4],\n",
       "       [ 3,  8],\n",
       "       [ 3,  8],\n",
       "       [ 9, 16]])"
      ]
     },
     "execution_count": 19,
     "metadata": {},
     "output_type": "execute_result"
    }
   ],
   "source": [
    "khatri_rao(A, A)"
   ]
  },
  {
   "cell_type": "code",
   "execution_count": 22,
   "id": "a394f386-2b2a-4bfd-a278-89551130c9cf",
   "metadata": {},
   "outputs": [
    {
     "data": {
      "text/plain": [
       "array([[[1, 2],\n",
       "        [3, 4]]])"
      ]
     },
     "execution_count": 22,
     "metadata": {},
     "output_type": "execute_result"
    }
   ],
   "source": [
    "A[..., np.newaxis, :, :]"
   ]
  },
  {
   "cell_type": "code",
   "execution_count": 39,
   "id": "b9736992-137b-43ad-9d35-0f10f284e0a7",
   "metadata": {},
   "outputs": [
    {
     "data": {
      "text/plain": [
       "(4,)"
      ]
     },
     "execution_count": 39,
     "metadata": {},
     "output_type": "execute_result"
    }
   ],
   "source": [
    "X.shape"
   ]
  },
  {
   "cell_type": "code",
   "execution_count": 81,
   "id": "6c7a58ad-4db4-49cb-beaa-ef001e14f8ef",
   "metadata": {},
   "outputs": [],
   "source": [
    "X = np.array([[1, 2 ], [3, 4]])"
   ]
  },
  {
   "cell_type": "code",
   "execution_count": 41,
   "id": "caa6d139-ff84-48a8-ae00-5e955cf0b33f",
   "metadata": {},
   "outputs": [],
   "source": [
    "n_samples, n_feats = X.shape\n",
    "    \n",
    "# Start with the “constant” column\n",
    "Y = np.ones((n_samples, 1))\n",
    "\n",
    "# For each feature column, stack [1, x_j] and Khatri–Rao it in\n",
    "for j in range(n_feats):\n",
    "    col = X[:, j]\n",
    "    # shape (n_samples, 2)\n",
    "    F = np.stack([np.ones(n_samples), col], axis=1)\n",
    "    # KR-product: (batch, old_cols, 1) * (batch, 1, 2) → (batch, old_cols, 2)\n",
    "    Y = (Y[:, :, None] * F[:, None, :]).reshape(n_samples, -1)"
   ]
  },
  {
   "cell_type": "code",
   "execution_count": 42,
   "id": "479faae7-dded-42d4-9d89-80502c89e009",
   "metadata": {},
   "outputs": [
    {
     "data": {
      "text/plain": [
       "array([[ 1.,  2.,  1.,  2.],\n",
       "       [ 1.,  4.,  3., 12.]])"
      ]
     },
     "execution_count": 42,
     "metadata": {},
     "output_type": "execute_result"
    }
   ],
   "source": [
    "Y"
   ]
  },
  {
   "cell_type": "code",
   "execution_count": 31,
   "id": "2f70cff7-d3a9-452e-8ab6-2d090fc23363",
   "metadata": {},
   "outputs": [
    {
     "data": {
      "text/plain": [
       "array([[ 1,  2,  3,  4],\n",
       "       [ 0,  4,  6,  8],\n",
       "       [ 0,  0,  9, 12],\n",
       "       [ 0,  0,  0, 16]])"
      ]
     },
     "execution_count": 31,
     "metadata": {},
     "output_type": "execute_result"
    }
   ],
   "source": [
    "np.triu()"
   ]
  },
  {
   "cell_type": "code",
   "execution_count": 43,
   "id": "3f8c3e85-39a9-47fd-ba44-2660be859dcd",
   "metadata": {},
   "outputs": [
    {
     "ename": "TypeError",
     "evalue": "outer() got an unexpected keyword argument 'axis'",
     "output_type": "error",
     "traceback": [
      "\u001b[0;31m---------------------------------------------------------------------------\u001b[0m",
      "\u001b[0;31mTypeError\u001b[0m                                 Traceback (most recent call last)",
      "Cell \u001b[0;32mIn[43], line 1\u001b[0m\n\u001b[0;32m----> 1\u001b[0m M \u001b[38;5;241m=\u001b[39m \u001b[43mnp\u001b[49m\u001b[38;5;241;43m.\u001b[39;49m\u001b[43mouter\u001b[49m\u001b[43m(\u001b[49m\u001b[43mA\u001b[49m\u001b[43m,\u001b[49m\u001b[43m \u001b[49m\u001b[43mA\u001b[49m\u001b[43m,\u001b[49m\u001b[43m \u001b[49m\u001b[43maxis\u001b[49m\u001b[38;5;241;43m=\u001b[39;49m\u001b[38;5;241;43m1\u001b[39;49m\u001b[43m)\u001b[49m\n\u001b[1;32m      2\u001b[0m i, j \u001b[38;5;241m=\u001b[39m np\u001b[38;5;241m.\u001b[39mtriu_indices_from(M)\n\u001b[1;32m      4\u001b[0m upper_vals \u001b[38;5;241m=\u001b[39m M[i, j]\n",
      "\u001b[0;31mTypeError\u001b[0m: outer() got an unexpected keyword argument 'axis'"
     ]
    }
   ],
   "source": [
    "M = np.outer(A, A)\n",
    "i, j = np.triu_indices_from(M)\n",
    "\n",
    "upper_vals = M[i, j]"
   ]
  },
  {
   "cell_type": "code",
   "execution_count": 35,
   "id": "43adb620-e629-4515-92e4-6214252d2ed1",
   "metadata": {},
   "outputs": [
    {
     "data": {
      "text/plain": [
       "array([ 1,  2,  3,  4,  4,  6,  8,  9, 12, 16])"
      ]
     },
     "execution_count": 35,
     "metadata": {},
     "output_type": "execute_result"
    }
   ],
   "source": [
    "upper_vals"
   ]
  },
  {
   "cell_type": "code",
   "execution_count": null,
   "id": "bee814af-1ea1-4126-9f71-463bb0f93728",
   "metadata": {},
   "outputs": [],
   "source": [
    "X"
   ]
  },
  {
   "cell_type": "code",
   "execution_count": 77,
   "id": "bb0d63a2-f2e4-4e93-98e3-5f243bf960d4",
   "metadata": {},
   "outputs": [
    {
     "data": {
      "text/plain": [
       "(1, 4)"
      ]
     },
     "execution_count": 77,
     "metadata": {},
     "output_type": "execute_result"
    }
   ],
   "source": [
    "X.shape"
   ]
  },
  {
   "cell_type": "code",
   "execution_count": 62,
   "id": "895d4fb0-9590-4d57-beaa-d50e7f58172e",
   "metadata": {},
   "outputs": [],
   "source": [
    "X = X.reshape(1, -1)"
   ]
  },
  {
   "cell_type": "code",
   "execution_count": 97,
   "id": "130d07ab-da47-4993-99b4-b6b291b4bdfb",
   "metadata": {},
   "outputs": [
    {
     "data": {
      "text/plain": [
       "array([[1, 2],\n",
       "       [3, 4]])"
      ]
     },
     "execution_count": 97,
     "metadata": {},
     "output_type": "execute_result"
    }
   ],
   "source": [
    "X"
   ]
  },
  {
   "cell_type": "code",
   "execution_count": 98,
   "id": "e5d56f09-7fcd-4f38-9238-08f1e2658892",
   "metadata": {},
   "outputs": [
    {
     "data": {
      "text/plain": [
       "array([[[ 5]],\n",
       "\n",
       "       [[25]]])"
      ]
     },
     "execution_count": 98,
     "metadata": {},
     "output_type": "execute_result"
    }
   ],
   "source": [
    "X.T[:, None, :] , X.T[None, :, :] "
   ]
  },
  {
   "cell_type": "code",
   "execution_count": 48,
   "id": "34e4ce3b-fe4f-4746-8d7d-210afbe558a0",
   "metadata": {},
   "outputs": [
    {
     "data": {
      "text/plain": [
       "array([[ 7, 15],\n",
       "       [10, 22]])"
      ]
     },
     "execution_count": 48,
     "metadata": {},
     "output_type": "execute_result"
    }
   ],
   "source": [
    "X.T@X.T"
   ]
  },
  {
   "cell_type": "code",
   "execution_count": 52,
   "id": "2015e40d-5b26-48ef-8fb4-c51ab024c12a",
   "metadata": {},
   "outputs": [
    {
     "data": {
      "text/plain": [
       "np.int64(5)"
      ]
     },
     "execution_count": 52,
     "metadata": {},
     "output_type": "execute_result"
    }
   ],
   "source": [
    "np.matmul(X[0, :].T , X[0, :])"
   ]
  },
  {
   "cell_type": "code",
   "execution_count": 54,
   "id": "bf14af57-385c-4a47-932d-f2ab13170e52",
   "metadata": {},
   "outputs": [
    {
     "data": {
      "text/plain": [
       "(2, 2)"
      ]
     },
     "execution_count": 54,
     "metadata": {},
     "output_type": "execute_result"
    }
   ],
   "source": [
    "X.shape"
   ]
  },
  {
   "cell_type": "code",
   "execution_count": 65,
   "id": "16f648d8-8887-4daa-b535-c75f598eeaeb",
   "metadata": {},
   "outputs": [
    {
     "data": {
      "text/plain": [
       "array([[30]])"
      ]
     },
     "execution_count": 65,
     "metadata": {},
     "output_type": "execute_result"
    }
   ],
   "source": [
    "X[0, :].reshape(1, -1) @  X[0, :].reshape(1, -1).T"
   ]
  },
  {
   "cell_type": "code",
   "execution_count": 66,
   "id": "eeb98e69-4498-41df-a4bb-402daafbb517",
   "metadata": {},
   "outputs": [],
   "source": [
    "A = np.array([1, 2, 3])"
   ]
  },
  {
   "cell_type": "code",
   "execution_count": 72,
   "id": "847da34d-5555-437d-87f3-d2f75b1c8064",
   "metadata": {},
   "outputs": [],
   "source": [
    "A = A.reshape(1, -1)"
   ]
  },
  {
   "cell_type": "code",
   "execution_count": 73,
   "id": "5559fb3e-7e6e-44a5-9a57-4a862a5357ad",
   "metadata": {},
   "outputs": [
    {
     "data": {
      "text/plain": [
       "array([[1, 2, 3],\n",
       "       [2, 4, 6],\n",
       "       [3, 6, 9]])"
      ]
     },
     "execution_count": 73,
     "metadata": {},
     "output_type": "execute_result"
    }
   ],
   "source": [
    "A.T @ A"
   ]
  },
  {
   "cell_type": "code",
   "execution_count": 75,
   "id": "3d9e0574-ade0-4a84-8874-319fd415fb95",
   "metadata": {},
   "outputs": [
    {
     "data": {
      "text/plain": [
       "(1, 3)"
      ]
     },
     "execution_count": 75,
     "metadata": {},
     "output_type": "execute_result"
    }
   ],
   "source": [
    "A.shape"
   ]
  },
  {
   "cell_type": "code",
   "execution_count": 80,
   "id": "25e13097-d71a-41f9-97d6-d33b40e184c6",
   "metadata": {},
   "outputs": [
    {
     "data": {
      "text/plain": [
       "array([[1, 2, 3, 4]])"
      ]
     },
     "execution_count": 80,
     "metadata": {},
     "output_type": "execute_result"
    }
   ],
   "source": [
    "X.T[:, None, :].transpose() @ X.T[None, :, :].transpose()"
   ]
  },
  {
   "cell_type": "code",
   "execution_count": 86,
   "id": "d003b17a-8aa3-4f8c-b9f1-f3c8cbc2ac26",
   "metadata": {},
   "outputs": [],
   "source": [
    "Y = X"
   ]
  },
  {
   "cell_type": "code",
   "execution_count": 96,
   "id": "48b83439-167e-4b23-91a2-0dddeaef18f1",
   "metadata": {},
   "outputs": [
    {
     "data": {
      "text/plain": [
       "array([[[ 7, 15]],\n",
       "\n",
       "       [[10, 22]]])"
      ]
     },
     "execution_count": 96,
     "metadata": {},
     "output_type": "execute_result"
    }
   ],
   "source": [
    "Y = X[:, :, None]\n",
    "P = Y.transpose(2,1,0)\n",
    "Q = Y.transpose(1,2,0)\n",
    "Q @ P"
   ]
  },
  {
   "cell_type": "code",
   "execution_count": 88,
   "id": "39969478-3d57-4c89-8232-2b8978014dc2",
   "metadata": {},
   "outputs": [
    {
     "data": {
      "text/plain": [
       "array([[1, 2],\n",
       "       [3, 4]])"
      ]
     },
     "execution_count": 88,
     "metadata": {},
     "output_type": "execute_result"
    }
   ],
   "source": [
    "X"
   ]
  },
  {
   "cell_type": "code",
   "execution_count": 91,
   "id": "5e3c8c8e-dbc8-4c06-91cf-26a2cbb7cad7",
   "metadata": {},
   "outputs": [
    {
     "data": {
      "text/plain": [
       "(1, 2, 2)"
      ]
     },
     "execution_count": 91,
     "metadata": {},
     "output_type": "execute_result"
    }
   ],
   "source": [
    "P.shape"
   ]
  },
  {
   "cell_type": "code",
   "execution_count": 92,
   "id": "b0e75c04-8279-4a87-9d15-20388e7e14ff",
   "metadata": {},
   "outputs": [
    {
     "data": {
      "text/plain": [
       "(2, 1, 2)"
      ]
     },
     "execution_count": 92,
     "metadata": {},
     "output_type": "execute_result"
    }
   ],
   "source": [
    "Q.shape"
   ]
  },
  {
   "cell_type": "code",
   "execution_count": 99,
   "id": "c8b7a064-25f4-4dc4-887b-ad17054bc1d5",
   "metadata": {},
   "outputs": [
    {
     "data": {
      "text/plain": [
       "array([[[ 1,  2],\n",
       "        [ 2,  4]],\n",
       "\n",
       "       [[ 9, 12],\n",
       "        [12, 16]]])"
      ]
     },
     "execution_count": 99,
     "metadata": {},
     "output_type": "execute_result"
    }
   ],
   "source": [
    "X[:, :, None] * X[:, None, :]"
   ]
  },
  {
   "cell_type": "code",
   "execution_count": 100,
   "id": "32635859-5328-4a48-b097-b75666dddfaa",
   "metadata": {},
   "outputs": [
    {
     "data": {
      "text/plain": [
       "array([[1, 2],\n",
       "       [3, 4]])"
      ]
     },
     "execution_count": 100,
     "metadata": {},
     "output_type": "execute_result"
    }
   ],
   "source": [
    "X"
   ]
  },
  {
   "cell_type": "code",
   "execution_count": 101,
   "id": "427608f6-00c0-42c3-8736-7ff9a8819ba2",
   "metadata": {},
   "outputs": [
    {
     "data": {
      "text/plain": [
       "array([[[1, 2]],\n",
       "\n",
       "       [[3, 4]]])"
      ]
     },
     "execution_count": 101,
     "metadata": {},
     "output_type": "execute_result"
    }
   ],
   "source": [
    "X[:, None, :]"
   ]
  },
  {
   "cell_type": "code",
   "execution_count": 107,
   "id": "c01275e8-4b06-4de9-86d7-d5fc21c35d8e",
   "metadata": {},
   "outputs": [
    {
     "data": {
      "text/plain": [
       "array([[ 1,  2,  4],\n",
       "       [ 9, 12, 16]])"
      ]
     },
     "execution_count": 107,
     "metadata": {},
     "output_type": "execute_result"
    }
   ],
   "source": [
    "### get outer , upper, elements\n",
    "\n",
    "out = X[:, :, None] * X[:, None, :]\n",
    "\n",
    "i, j = np.triu_indices_from(X)\n",
    "\n",
    "out[:, i, j]"
   ]
  },
  {
   "cell_type": "code",
   "execution_count": 166,
   "id": "754c5b97-c827-4ab8-a365-8f6201323d45",
   "metadata": {},
   "outputs": [
    {
     "data": {
      "text/plain": [
       "(2, 35)"
      ]
     },
     "execution_count": 166,
     "metadata": {},
     "output_type": "execute_result"
    }
   ],
   "source": [
    "## final\n",
    "\n",
    "X = np.array([[1, 2, 3], [4, 5, 6]])\n",
    "\n",
    "n_samples, n_feats = X.shape\n",
    "    \n",
    "# Start with the “constant” column\n",
    "Y = np.ones((n_samples, 1))\n",
    "\n",
    "# For each feature column, stack [1, x_j] and Khatri–Rao it in\n",
    "for j in range(n_feats):\n",
    "    col = X[:, j]\n",
    "    # shape (n_samples, 2)\n",
    "    F = np.stack([np.ones(n_samples), col], axis=1)\n",
    "    # KR-product: (batch, old_cols, 1) * (batch, 1, 2) → (batch, old_cols, 2)\n",
    "    Y = (Y[:, :, None] * F[:, None, :]).reshape(n_samples, -1)\n",
    "\n",
    "\n",
    "out = Y[:, :, None] * Y[:, None, :]\n",
    "\n",
    "final = out[:, np.triu(np.ones_like(out[0, :, :], dtype=bool))][:, 1:]\n"
   ]
  },
  {
   "cell_type": "code",
   "execution_count": 110,
   "id": "9a82493a-14ca-4562-a6ed-b37a8093b5be",
   "metadata": {},
   "outputs": [
    {
     "data": {
      "text/plain": [
       "array([[1, 2],\n",
       "       [3, 4]])"
      ]
     },
     "execution_count": 110,
     "metadata": {},
     "output_type": "execute_result"
    }
   ],
   "source": [
    "X"
   ]
  },
  {
   "cell_type": "code",
   "execution_count": 112,
   "id": "38741d65-1374-4374-bb6e-799c5cc00f55",
   "metadata": {},
   "outputs": [],
   "source": [
    "X = np.array([[1, 2, 3], [4, 5, 6]])\n",
    "\n",
    "n_samples, n_feats = X.shape\n",
    "    \n",
    "# Start with the “constant” column\n",
    "Y = np.ones((n_samples, 1))\n",
    "\n",
    "# For each feature column, stack [1, x_j] and Khatri–Rao it in\n",
    "for j in range(n_feats):\n",
    "    col = X[:, j]\n",
    "    # shape (n_samples, 2)\n",
    "    F = np.stack([np.ones(n_samples), col], axis=1)\n",
    "    # KR-product: (batch, old_cols, 1) * (batch, 1, 2) → (batch, old_cols, 2)\n",
    "    Y = (Y[:, :, None] * F[:, None, :]).reshape(n_samples, -1)\n"
   ]
  },
  {
   "cell_type": "code",
   "execution_count": 120,
   "id": "8a2e0af2-18dc-43ab-a4d8-4b32a1bfd75a",
   "metadata": {},
   "outputs": [],
   "source": []
  },
  {
   "cell_type": "code",
   "execution_count": 122,
   "id": "783ea9c2-caed-4da0-8acd-e6c89a8815a1",
   "metadata": {},
   "outputs": [
    {
     "data": {
      "text/plain": [
       "array([[  3.,   2.,   6.,   1.,   3.,   2.,   6.],\n",
       "       [  6.,   5.,  30.,   4.,  24.,  20., 120.]])"
      ]
     },
     "execution_count": 122,
     "metadata": {},
     "output_type": "execute_result"
    }
   ],
   "source": [
    "Y"
   ]
  },
  {
   "cell_type": "code",
   "execution_count": 123,
   "id": "a5555fb8-41e6-4c2e-9b83-9d85cfe35d81",
   "metadata": {},
   "outputs": [],
   "source": [
    "out = Y[:, :, None] * Y[:, None, :]\n"
   ]
  },
  {
   "cell_type": "code",
   "execution_count": 127,
   "id": "33eed717-2d50-4df0-9a43-f885fac1fc7c",
   "metadata": {},
   "outputs": [
    {
     "data": {
      "text/plain": [
       "array([[9.0e+00, 6.0e+00, 1.8e+01, 3.0e+00, 9.0e+00, 6.0e+00, 1.8e+01],\n",
       "       [6.0e+00, 4.0e+00, 1.2e+01, 2.0e+00, 6.0e+00, 4.0e+00, 1.2e+01],\n",
       "       [1.8e+01, 1.2e+01, 3.6e+01, 6.0e+00, 1.8e+01, 1.2e+01, 3.6e+01],\n",
       "       [3.0e+01, 2.5e+01, 1.5e+02, 2.0e+01, 1.2e+02, 1.0e+02, 6.0e+02],\n",
       "       [1.8e+02, 1.5e+02, 9.0e+02, 1.2e+02, 7.2e+02, 6.0e+02, 3.6e+03]])"
      ]
     },
     "execution_count": 127,
     "metadata": {},
     "output_type": "execute_result"
    }
   ],
   "source": [
    "i, j = np.triu_indices_from(X)\n",
    "\n",
    "out[i, j]"
   ]
  },
  {
   "cell_type": "code",
   "execution_count": 158,
   "id": "64054fdb-73e0-4204-9a6f-3ac81d5dcb46",
   "metadata": {},
   "outputs": [
    {
     "data": {
      "text/plain": [
       "array([[9.00e+00, 6.00e+00, 1.80e+01, 3.00e+00, 9.00e+00, 6.00e+00,\n",
       "        1.80e+01, 4.00e+00, 1.20e+01, 2.00e+00, 6.00e+00, 4.00e+00,\n",
       "        1.20e+01, 3.60e+01, 6.00e+00, 1.80e+01, 1.20e+01, 3.60e+01,\n",
       "        1.00e+00, 3.00e+00, 2.00e+00, 6.00e+00, 9.00e+00, 6.00e+00,\n",
       "        1.80e+01, 4.00e+00, 1.20e+01, 3.60e+01],\n",
       "       [3.60e+01, 3.00e+01, 1.80e+02, 2.40e+01, 1.44e+02, 1.20e+02,\n",
       "        7.20e+02, 2.50e+01, 1.50e+02, 2.00e+01, 1.20e+02, 1.00e+02,\n",
       "        6.00e+02, 9.00e+02, 1.20e+02, 7.20e+02, 6.00e+02, 3.60e+03,\n",
       "        1.60e+01, 9.60e+01, 8.00e+01, 4.80e+02, 5.76e+02, 4.80e+02,\n",
       "        2.88e+03, 4.00e+02, 2.40e+03, 1.44e+04]])"
      ]
     },
     "execution_count": 158,
     "metadata": {},
     "output_type": "execute_result"
    }
   ],
   "source": [
    "out[:, np.triu(np.ones_like(out[0, :, :], dtype=bool))]"
   ]
  },
  {
   "cell_type": "code",
   "execution_count": 137,
   "id": "53797bc7-9526-4c95-ad55-694c72733a8a",
   "metadata": {},
   "outputs": [
    {
     "data": {
      "text/plain": [
       "(2, 7)"
      ]
     },
     "execution_count": 137,
     "metadata": {},
     "output_type": "execute_result"
    }
   ],
   "source": [
    "Y.shape"
   ]
  },
  {
   "cell_type": "code",
   "execution_count": 144,
   "id": "55dfb6cc-08e3-4765-9e60-f7f4b2a74e9d",
   "metadata": {},
   "outputs": [
    {
     "data": {
      "text/plain": [
       "array([[[9.00e+00, 6.00e+00, 1.80e+01, 3.00e+00, 9.00e+00, 6.00e+00,\n",
       "         1.80e+01],\n",
       "        [6.00e+00, 4.00e+00, 1.20e+01, 2.00e+00, 6.00e+00, 4.00e+00,\n",
       "         1.20e+01],\n",
       "        [1.80e+01, 1.20e+01, 3.60e+01, 6.00e+00, 1.80e+01, 1.20e+01,\n",
       "         3.60e+01],\n",
       "        [3.00e+00, 2.00e+00, 6.00e+00, 1.00e+00, 3.00e+00, 2.00e+00,\n",
       "         6.00e+00],\n",
       "        [9.00e+00, 6.00e+00, 1.80e+01, 3.00e+00, 9.00e+00, 6.00e+00,\n",
       "         1.80e+01],\n",
       "        [6.00e+00, 4.00e+00, 1.20e+01, 2.00e+00, 6.00e+00, 4.00e+00,\n",
       "         1.20e+01],\n",
       "        [1.80e+01, 1.20e+01, 3.60e+01, 6.00e+00, 1.80e+01, 1.20e+01,\n",
       "         3.60e+01]],\n",
       "\n",
       "       [[3.60e+01, 3.00e+01, 1.80e+02, 2.40e+01, 1.44e+02, 1.20e+02,\n",
       "         7.20e+02],\n",
       "        [3.00e+01, 2.50e+01, 1.50e+02, 2.00e+01, 1.20e+02, 1.00e+02,\n",
       "         6.00e+02],\n",
       "        [1.80e+02, 1.50e+02, 9.00e+02, 1.20e+02, 7.20e+02, 6.00e+02,\n",
       "         3.60e+03],\n",
       "        [2.40e+01, 2.00e+01, 1.20e+02, 1.60e+01, 9.60e+01, 8.00e+01,\n",
       "         4.80e+02],\n",
       "        [1.44e+02, 1.20e+02, 7.20e+02, 9.60e+01, 5.76e+02, 4.80e+02,\n",
       "         2.88e+03],\n",
       "        [1.20e+02, 1.00e+02, 6.00e+02, 8.00e+01, 4.80e+02, 4.00e+02,\n",
       "         2.40e+03],\n",
       "        [7.20e+02, 6.00e+02, 3.60e+03, 4.80e+02, 2.88e+03, 2.40e+03,\n",
       "         1.44e+04]]])"
      ]
     },
     "execution_count": 144,
     "metadata": {},
     "output_type": "execute_result"
    }
   ],
   "source": [
    "out"
   ]
  }
 ],
 "metadata": {
  "kernelspec": {
   "display_name": "Python 3 (ipykernel)",
   "language": "python",
   "name": "python3"
  },
  "language_info": {
   "codemirror_mode": {
    "name": "ipython",
    "version": 3
   },
   "file_extension": ".py",
   "mimetype": "text/x-python",
   "name": "python",
   "nbconvert_exporter": "python",
   "pygments_lexer": "ipython3",
   "version": "3.11.7"
  }
 },
 "nbformat": 4,
 "nbformat_minor": 5
}
